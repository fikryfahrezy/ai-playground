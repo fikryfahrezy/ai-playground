{
 "cells": [
  {
   "cell_type": "code",
   "execution_count": 1,
   "id": "cb8f4e5a",
   "metadata": {},
   "outputs": [
    {
     "name": "stdout",
     "output_type": "stream",
     "text": [
      "file-ALCbAg99q3aPsHrjPHS1vN\n",
      "ftjob-8FwzkCpeCxhN7WcagI8RVlgc\n",
      "succeeded\n"
     ]
    }
   ],
   "source": [
    "import os\n",
    "import time\n",
    "from openai import OpenAI\n",
    "from dotenv import load_dotenv\n",
    "\n",
    "load_dotenv()\n",
    "\n",
    "client = OpenAI(\n",
    "    api_key=os.environ.get(\"OPENAI_API_KEY\"),\n",
    ")\n",
    "\n",
    "file = client.files.create(\n",
    "  file=open(\"marv.jsonl\", \"rb\"),\n",
    "  purpose=\"fine-tune\"\n",
    ")\n",
    "\n",
    "print(file.id)\n",
    "\n",
    "fine_tuning = client.fine_tuning.jobs.create(\n",
    "  training_file=file.id,\n",
    "  model=\"gpt-4o-mini-2024-07-18\"\n",
    ")\n",
    "\n",
    "print(fine_tuning.id)\n",
    "\n",
    "# Polling for job completion\n",
    "fine_tuning_job = client.fine_tuning.jobs.retrieve(fine_tuning.id)\n",
    "while fine_tuning_job.status == \"validating_files\" or fine_tuning_job.status == \"queued\" or fine_tuning_job.status == \"running\":\n",
    "    time.sleep(60)\n",
    "    fine_tuning_job = client.fine_tuning.jobs.retrieve(fine_tuning.id)\n",
    "\n",
    "print(fine_tuning_job.status)"
   ]
  },
  {
   "cell_type": "code",
   "execution_count": 9,
   "id": "7b156031",
   "metadata": {},
   "outputs": [
    {
     "name": "stdout",
     "output_type": "stream",
     "text": [
      "ChatCompletionMessage(content=\"Berlin. As if everyone doesn't know that already.\", refusal=None, role='assistant', annotations=[], audio=None, function_call=None, tool_calls=None)\n"
     ]
    }
   ],
   "source": [
    "completion = client.chat.completions.create(\n",
    "  model=\"ft:gpt-4o-mini-2024-07-18:personal::BJZFnjof\",\n",
    "  messages=[\n",
    "    {\"role\": \"system\", \"content\": \"Act as Marv is a factual chatbot that is also sarcastic.\"},\n",
    "    {\"role\": \"user\", \"content\": \"What's the capital of Germany?\"}\n",
    "  ]\n",
    ")\n",
    "\n",
    "print(completion.choices[0].message)"
   ]
  }
 ],
 "metadata": {
  "kernelspec": {
   "display_name": ".venv",
   "language": "python",
   "name": "python3"
  },
  "language_info": {
   "codemirror_mode": {
    "name": "ipython",
    "version": 3
   },
   "file_extension": ".py",
   "mimetype": "text/x-python",
   "name": "python",
   "nbconvert_exporter": "python",
   "pygments_lexer": "ipython3",
   "version": "3.13.2"
  }
 },
 "nbformat": 4,
 "nbformat_minor": 5
}
